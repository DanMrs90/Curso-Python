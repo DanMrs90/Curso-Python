{
 "cells": [
  {
   "cell_type": "markdown",
   "metadata": {},
   "source": [
    "# Web scraping"
   ]
  },
  {
   "cell_type": "markdown",
   "metadata": {},
   "source": [
    "## 1.-instalar e importar librerias"
   ]
  },
  {
   "cell_type": "code",
   "execution_count": 1,
   "metadata": {},
   "outputs": [
    {
     "name": "stdout",
     "output_type": "stream",
     "text": [
      "Requirement already satisfied: requests in c:\\users\\danie1\\appdata\\local\\programs\\python\\python311\\lib\\site-packages (2.31.0)\n",
      "Requirement already satisfied: charset-normalizer<4,>=2 in c:\\users\\danie1\\appdata\\local\\programs\\python\\python311\\lib\\site-packages (from requests) (3.2.0)\n",
      "Requirement already satisfied: idna<4,>=2.5 in c:\\users\\danie1\\appdata\\local\\programs\\python\\python311\\lib\\site-packages (from requests) (3.4)\n",
      "Requirement already satisfied: urllib3<3,>=1.21.1 in c:\\users\\danie1\\appdata\\local\\programs\\python\\python311\\lib\\site-packages (from requests) (2.0.3)\n",
      "Requirement already satisfied: certifi>=2017.4.17 in c:\\users\\danie1\\appdata\\local\\programs\\python\\python311\\lib\\site-packages (from requests) (2023.5.7)\n",
      "Note: you may need to restart the kernel to use updated packages.\n"
     ]
    }
   ],
   "source": [
    "pip install requests "
   ]
  },
  {
   "cell_type": "code",
   "execution_count": 2,
   "metadata": {},
   "outputs": [
    {
     "name": "stdout",
     "output_type": "stream",
     "text": [
      "Requirement already satisfied: beautifulsoup4 in c:\\users\\danie1\\appdata\\local\\programs\\python\\python311\\lib\\site-packages (4.12.2)\n",
      "Requirement already satisfied: soupsieve>1.2 in c:\\users\\danie1\\appdata\\local\\programs\\python\\python311\\lib\\site-packages (from beautifulsoup4) (2.4.1)\n",
      "Note: you may need to restart the kernel to use updated packages.\n"
     ]
    }
   ],
   "source": [
    "pip install beautifulsoup4"
   ]
  },
  {
   "cell_type": "code",
   "execution_count": 3,
   "metadata": {},
   "outputs": [],
   "source": [
    "import requests \n",
    "from bs4 import BeautifulSoup"
   ]
  },
  {
   "cell_type": "markdown",
   "metadata": {},
   "source": [
    "## 2.Enviar peticion HTTP para extraer codigo fuente de la pagina web"
   ]
  },
  {
   "cell_type": "code",
   "execution_count": null,
   "metadata": {},
   "outputs": [],
   "source": [
    "pagina_web=requests.get('http://books.toscrape.com/')\n",
    "soup=BeautifulSoup(pagina_web.text,'html.parser')\n",
    "\n",
    "print(soup.prettify())"
   ]
  },
  {
   "cell_type": "code",
   "execution_count": 10,
   "metadata": {},
   "outputs": [
    {
     "name": "stdout",
     "output_type": "stream",
     "text": [
      "<a href=\"index.html\">Books to Scrape</a>\n"
     ]
    }
   ],
   "source": [
    "titulos_items=soup.find('a')  #se busca la etiqueta a en este caso arroja la primera\n",
    "\n",
    "print(titulos_items)"
   ]
  },
  {
   "cell_type": "code",
   "execution_count": null,
   "metadata": {},
   "outputs": [],
   "source": [
    "titulos_items=soup.find_all('a')  #se busca todas las etiquetas  a \n",
    "print(titulos_items)"
   ]
  },
  {
   "cell_type": "code",
   "execution_count": 16,
   "metadata": {},
   "outputs": [
    {
     "data": {
      "text/plain": [
       "['A Light in the Attic',\n",
       " 'Tipping the Velvet',\n",
       " 'Soumission',\n",
       " 'Sharp Objects',\n",
       " 'Sapiens: A Brief History of Humankind',\n",
       " 'The Requiem Red',\n",
       " 'The Dirty Little Secrets of Getting Your Dream Job',\n",
       " 'The Coming Woman: A Novel Based on the Life of the Infamous Feminist, Victoria Woodhull',\n",
       " 'The Boys in the Boat: Nine Americans and Their Epic Quest for Gold at the 1936 Berlin Olympics',\n",
       " 'The Black Maria',\n",
       " 'Starving Hearts (Triangular Trade Trilogy, #1)',\n",
       " \"Shakespeare's Sonnets\",\n",
       " 'Set Me Free',\n",
       " \"Scott Pilgrim's Precious Little Life (Scott Pilgrim #1)\",\n",
       " 'Rip it Up and Start Again',\n",
       " 'Our Band Could Be Your Life: Scenes from the American Indie Underground, 1981-1991',\n",
       " 'Olio',\n",
       " 'Mesaerion: The Best Science Fiction Stories 1800-1849',\n",
       " 'Libertarianism for Beginners',\n",
       " \"It's Only the Himalayas\"]"
      ]
     },
     "execution_count": 16,
     "metadata": {},
     "output_type": "execute_result"
    }
   ],
   "source": [
    "titulos=[]\n",
    "titulos_items=soup.find_all('h3')  #se busca la etiqueta h3 el cual da como resultado un arreglo\n",
    "for items in titulos_items:\n",
    "    titulo=items.a# se va a buscar la etiqueta a, en caso de que se busque otra se colocaria \n",
    "    #print(titulo['title'])\n",
    "    titulos.append(titulo['title'])\n",
    "\n",
    "\n",
    "titulos"
   ]
  },
  {
   "cell_type": "code",
   "execution_count": 18,
   "metadata": {},
   "outputs": [
    {
     "name": "stdout",
     "output_type": "stream",
     "text": [
      "[<p class=\"price_color\">Â£51.77</p>, <p class=\"price_color\">Â£53.74</p>, <p class=\"price_color\">Â£50.10</p>, <p class=\"price_color\">Â£47.82</p>, <p class=\"price_color\">Â£54.23</p>, <p class=\"price_color\">Â£22.65</p>, <p class=\"price_color\">Â£33.34</p>, <p class=\"price_color\">Â£17.93</p>, <p class=\"price_color\">Â£22.60</p>, <p class=\"price_color\">Â£52.15</p>, <p class=\"price_color\">Â£13.99</p>, <p class=\"price_color\">Â£20.66</p>, <p class=\"price_color\">Â£17.46</p>, <p class=\"price_color\">Â£52.29</p>, <p class=\"price_color\">Â£35.02</p>, <p class=\"price_color\">Â£57.25</p>, <p class=\"price_color\">Â£23.88</p>, <p class=\"price_color\">Â£37.59</p>, <p class=\"price_color\">Â£51.33</p>, <p class=\"price_color\">Â£45.17</p>]\n"
     ]
    }
   ],
   "source": [
    "precios=[]\n",
    "precio_items=soup.find_all('p',class_=\"price_color\")# se va a buscar todas las etiquetas p y clase price color\n",
    "print(precio_items)"
   ]
  },
  {
   "cell_type": "code",
   "execution_count": 22,
   "metadata": {},
   "outputs": [],
   "source": [
    "precios=[]\n",
    "precio_items=soup.find_all('p',class_=\"price_color\")# se va a buscar todas las etiquetas p y clase price color\n",
    "for item in precio_items:\n",
    "    precio=item.text\n",
    "    precios.append(precio)\n"
   ]
  },
  {
   "cell_type": "code",
   "execution_count": 23,
   "metadata": {},
   "outputs": [
    {
     "data": {
      "text/plain": [
       "['Â£51.77',\n",
       " 'Â£53.74',\n",
       " 'Â£50.10',\n",
       " 'Â£47.82',\n",
       " 'Â£54.23',\n",
       " 'Â£22.65',\n",
       " 'Â£33.34',\n",
       " 'Â£17.93',\n",
       " 'Â£22.60',\n",
       " 'Â£52.15',\n",
       " 'Â£13.99',\n",
       " 'Â£20.66',\n",
       " 'Â£17.46',\n",
       " 'Â£52.29',\n",
       " 'Â£35.02',\n",
       " 'Â£57.25',\n",
       " 'Â£23.88',\n",
       " 'Â£37.59',\n",
       " 'Â£51.33',\n",
       " 'Â£45.17']"
      ]
     },
     "execution_count": 23,
     "metadata": {},
     "output_type": "execute_result"
    }
   ],
   "source": [
    "precios"
   ]
  },
  {
   "cell_type": "code",
   "execution_count": 27,
   "metadata": {},
   "outputs": [],
   "source": [
    "existencias=[]\n",
    "existencia_item=soup.find_all('p',class_='instock availability')\n",
    "for item in existencia_item:\n",
    "    existencia=item.text\n",
    "    existencias.append(existencia)"
   ]
  },
  {
   "cell_type": "code",
   "execution_count": 28,
   "metadata": {},
   "outputs": [
    {
     "data": {
      "text/plain": [
       "['\\n\\n    \\n        In stock\\n    \\n',\n",
       " '\\n\\n    \\n        In stock\\n    \\n',\n",
       " '\\n\\n    \\n        In stock\\n    \\n',\n",
       " '\\n\\n    \\n        In stock\\n    \\n',\n",
       " '\\n\\n    \\n        In stock\\n    \\n',\n",
       " '\\n\\n    \\n        In stock\\n    \\n',\n",
       " '\\n\\n    \\n        In stock\\n    \\n',\n",
       " '\\n\\n    \\n        In stock\\n    \\n',\n",
       " '\\n\\n    \\n        In stock\\n    \\n',\n",
       " '\\n\\n    \\n        In stock\\n    \\n',\n",
       " '\\n\\n    \\n        In stock\\n    \\n',\n",
       " '\\n\\n    \\n        In stock\\n    \\n',\n",
       " '\\n\\n    \\n        In stock\\n    \\n',\n",
       " '\\n\\n    \\n        In stock\\n    \\n',\n",
       " '\\n\\n    \\n        In stock\\n    \\n',\n",
       " '\\n\\n    \\n        In stock\\n    \\n',\n",
       " '\\n\\n    \\n        In stock\\n    \\n',\n",
       " '\\n\\n    \\n        In stock\\n    \\n',\n",
       " '\\n\\n    \\n        In stock\\n    \\n',\n",
       " '\\n\\n    \\n        In stock\\n    \\n']"
      ]
     },
     "execution_count": 28,
     "metadata": {},
     "output_type": "execute_result"
    }
   ],
   "source": [
    "existencias"
   ]
  },
  {
   "cell_type": "code",
   "execution_count": 35,
   "metadata": {},
   "outputs": [],
   "source": [
    "ratings=[]\n",
    "rating_items=soup.find_all('p',class_=\"star-rating\")\n",
    "for item in rating_items:\n",
    "    rating=item['class'][1]\n",
    "    ratings.append(rating)\n"
   ]
  },
  {
   "cell_type": "code",
   "execution_count": 37,
   "metadata": {},
   "outputs": [
    {
     "data": {
      "text/plain": [
       "['Three',\n",
       " 'One',\n",
       " 'One',\n",
       " 'Four',\n",
       " 'Five',\n",
       " 'One',\n",
       " 'Four',\n",
       " 'Three',\n",
       " 'Four',\n",
       " 'One',\n",
       " 'Two',\n",
       " 'Four',\n",
       " 'Five',\n",
       " 'Five',\n",
       " 'Five',\n",
       " 'Three',\n",
       " 'One',\n",
       " 'One',\n",
       " 'Two',\n",
       " 'Two']"
      ]
     },
     "execution_count": 37,
     "metadata": {},
     "output_type": "execute_result"
    }
   ],
   "source": [
    "ratings"
   ]
  },
  {
   "cell_type": "code",
   "execution_count": 38,
   "metadata": {},
   "outputs": [],
   "source": [
    "import pandas as pd \n",
    "data={\n",
    "    'Titulo':titulos,\n",
    "    'Precio':precios,\n",
    "    'Rating':ratings,\n",
    "    'En existencia':existencias\n",
    "}\n",
    "\n",
    "df=pd.DataFrame(data)"
   ]
  },
  {
   "cell_type": "code",
   "execution_count": 39,
   "metadata": {},
   "outputs": [
    {
     "data": {
      "text/html": [
       "<div>\n",
       "<style scoped>\n",
       "    .dataframe tbody tr th:only-of-type {\n",
       "        vertical-align: middle;\n",
       "    }\n",
       "\n",
       "    .dataframe tbody tr th {\n",
       "        vertical-align: top;\n",
       "    }\n",
       "\n",
       "    .dataframe thead th {\n",
       "        text-align: right;\n",
       "    }\n",
       "</style>\n",
       "<table border=\"1\" class=\"dataframe\">\n",
       "  <thead>\n",
       "    <tr style=\"text-align: right;\">\n",
       "      <th></th>\n",
       "      <th>Titulo</th>\n",
       "      <th>Precio</th>\n",
       "      <th>Rating</th>\n",
       "      <th>En existencia</th>\n",
       "    </tr>\n",
       "  </thead>\n",
       "  <tbody>\n",
       "    <tr>\n",
       "      <th>0</th>\n",
       "      <td>A Light in the Attic</td>\n",
       "      <td>Â£51.77</td>\n",
       "      <td>Three</td>\n",
       "      <td>\\n\\n    \\n        In stock\\n    \\n</td>\n",
       "    </tr>\n",
       "    <tr>\n",
       "      <th>1</th>\n",
       "      <td>Tipping the Velvet</td>\n",
       "      <td>Â£53.74</td>\n",
       "      <td>One</td>\n",
       "      <td>\\n\\n    \\n        In stock\\n    \\n</td>\n",
       "    </tr>\n",
       "    <tr>\n",
       "      <th>2</th>\n",
       "      <td>Soumission</td>\n",
       "      <td>Â£50.10</td>\n",
       "      <td>One</td>\n",
       "      <td>\\n\\n    \\n        In stock\\n    \\n</td>\n",
       "    </tr>\n",
       "    <tr>\n",
       "      <th>3</th>\n",
       "      <td>Sharp Objects</td>\n",
       "      <td>Â£47.82</td>\n",
       "      <td>Four</td>\n",
       "      <td>\\n\\n    \\n        In stock\\n    \\n</td>\n",
       "    </tr>\n",
       "    <tr>\n",
       "      <th>4</th>\n",
       "      <td>Sapiens: A Brief History of Humankind</td>\n",
       "      <td>Â£54.23</td>\n",
       "      <td>Five</td>\n",
       "      <td>\\n\\n    \\n        In stock\\n    \\n</td>\n",
       "    </tr>\n",
       "    <tr>\n",
       "      <th>5</th>\n",
       "      <td>The Requiem Red</td>\n",
       "      <td>Â£22.65</td>\n",
       "      <td>One</td>\n",
       "      <td>\\n\\n    \\n        In stock\\n    \\n</td>\n",
       "    </tr>\n",
       "    <tr>\n",
       "      <th>6</th>\n",
       "      <td>The Dirty Little Secrets of Getting Your Dream...</td>\n",
       "      <td>Â£33.34</td>\n",
       "      <td>Four</td>\n",
       "      <td>\\n\\n    \\n        In stock\\n    \\n</td>\n",
       "    </tr>\n",
       "    <tr>\n",
       "      <th>7</th>\n",
       "      <td>The Coming Woman: A Novel Based on the Life of...</td>\n",
       "      <td>Â£17.93</td>\n",
       "      <td>Three</td>\n",
       "      <td>\\n\\n    \\n        In stock\\n    \\n</td>\n",
       "    </tr>\n",
       "    <tr>\n",
       "      <th>8</th>\n",
       "      <td>The Boys in the Boat: Nine Americans and Their...</td>\n",
       "      <td>Â£22.60</td>\n",
       "      <td>Four</td>\n",
       "      <td>\\n\\n    \\n        In stock\\n    \\n</td>\n",
       "    </tr>\n",
       "    <tr>\n",
       "      <th>9</th>\n",
       "      <td>The Black Maria</td>\n",
       "      <td>Â£52.15</td>\n",
       "      <td>One</td>\n",
       "      <td>\\n\\n    \\n        In stock\\n    \\n</td>\n",
       "    </tr>\n",
       "    <tr>\n",
       "      <th>10</th>\n",
       "      <td>Starving Hearts (Triangular Trade Trilogy, #1)</td>\n",
       "      <td>Â£13.99</td>\n",
       "      <td>Two</td>\n",
       "      <td>\\n\\n    \\n        In stock\\n    \\n</td>\n",
       "    </tr>\n",
       "    <tr>\n",
       "      <th>11</th>\n",
       "      <td>Shakespeare's Sonnets</td>\n",
       "      <td>Â£20.66</td>\n",
       "      <td>Four</td>\n",
       "      <td>\\n\\n    \\n        In stock\\n    \\n</td>\n",
       "    </tr>\n",
       "    <tr>\n",
       "      <th>12</th>\n",
       "      <td>Set Me Free</td>\n",
       "      <td>Â£17.46</td>\n",
       "      <td>Five</td>\n",
       "      <td>\\n\\n    \\n        In stock\\n    \\n</td>\n",
       "    </tr>\n",
       "    <tr>\n",
       "      <th>13</th>\n",
       "      <td>Scott Pilgrim's Precious Little Life (Scott Pi...</td>\n",
       "      <td>Â£52.29</td>\n",
       "      <td>Five</td>\n",
       "      <td>\\n\\n    \\n        In stock\\n    \\n</td>\n",
       "    </tr>\n",
       "    <tr>\n",
       "      <th>14</th>\n",
       "      <td>Rip it Up and Start Again</td>\n",
       "      <td>Â£35.02</td>\n",
       "      <td>Five</td>\n",
       "      <td>\\n\\n    \\n        In stock\\n    \\n</td>\n",
       "    </tr>\n",
       "    <tr>\n",
       "      <th>15</th>\n",
       "      <td>Our Band Could Be Your Life: Scenes from the A...</td>\n",
       "      <td>Â£57.25</td>\n",
       "      <td>Three</td>\n",
       "      <td>\\n\\n    \\n        In stock\\n    \\n</td>\n",
       "    </tr>\n",
       "    <tr>\n",
       "      <th>16</th>\n",
       "      <td>Olio</td>\n",
       "      <td>Â£23.88</td>\n",
       "      <td>One</td>\n",
       "      <td>\\n\\n    \\n        In stock\\n    \\n</td>\n",
       "    </tr>\n",
       "    <tr>\n",
       "      <th>17</th>\n",
       "      <td>Mesaerion: The Best Science Fiction Stories 18...</td>\n",
       "      <td>Â£37.59</td>\n",
       "      <td>One</td>\n",
       "      <td>\\n\\n    \\n        In stock\\n    \\n</td>\n",
       "    </tr>\n",
       "    <tr>\n",
       "      <th>18</th>\n",
       "      <td>Libertarianism for Beginners</td>\n",
       "      <td>Â£51.33</td>\n",
       "      <td>Two</td>\n",
       "      <td>\\n\\n    \\n        In stock\\n    \\n</td>\n",
       "    </tr>\n",
       "    <tr>\n",
       "      <th>19</th>\n",
       "      <td>It's Only the Himalayas</td>\n",
       "      <td>Â£45.17</td>\n",
       "      <td>Two</td>\n",
       "      <td>\\n\\n    \\n        In stock\\n    \\n</td>\n",
       "    </tr>\n",
       "  </tbody>\n",
       "</table>\n",
       "</div>"
      ],
      "text/plain": [
       "                                               Titulo   Precio Rating  \\\n",
       "0                                A Light in the Attic  Â£51.77  Three   \n",
       "1                                  Tipping the Velvet  Â£53.74    One   \n",
       "2                                          Soumission  Â£50.10    One   \n",
       "3                                       Sharp Objects  Â£47.82   Four   \n",
       "4               Sapiens: A Brief History of Humankind  Â£54.23   Five   \n",
       "5                                     The Requiem Red  Â£22.65    One   \n",
       "6   The Dirty Little Secrets of Getting Your Dream...  Â£33.34   Four   \n",
       "7   The Coming Woman: A Novel Based on the Life of...  Â£17.93  Three   \n",
       "8   The Boys in the Boat: Nine Americans and Their...  Â£22.60   Four   \n",
       "9                                     The Black Maria  Â£52.15    One   \n",
       "10     Starving Hearts (Triangular Trade Trilogy, #1)  Â£13.99    Two   \n",
       "11                              Shakespeare's Sonnets  Â£20.66   Four   \n",
       "12                                        Set Me Free  Â£17.46   Five   \n",
       "13  Scott Pilgrim's Precious Little Life (Scott Pi...  Â£52.29   Five   \n",
       "14                          Rip it Up and Start Again  Â£35.02   Five   \n",
       "15  Our Band Could Be Your Life: Scenes from the A...  Â£57.25  Three   \n",
       "16                                               Olio  Â£23.88    One   \n",
       "17  Mesaerion: The Best Science Fiction Stories 18...  Â£37.59    One   \n",
       "18                       Libertarianism for Beginners  Â£51.33    Two   \n",
       "19                            It's Only the Himalayas  Â£45.17    Two   \n",
       "\n",
       "                         En existencia  \n",
       "0   \\n\\n    \\n        In stock\\n    \\n  \n",
       "1   \\n\\n    \\n        In stock\\n    \\n  \n",
       "2   \\n\\n    \\n        In stock\\n    \\n  \n",
       "3   \\n\\n    \\n        In stock\\n    \\n  \n",
       "4   \\n\\n    \\n        In stock\\n    \\n  \n",
       "5   \\n\\n    \\n        In stock\\n    \\n  \n",
       "6   \\n\\n    \\n        In stock\\n    \\n  \n",
       "7   \\n\\n    \\n        In stock\\n    \\n  \n",
       "8   \\n\\n    \\n        In stock\\n    \\n  \n",
       "9   \\n\\n    \\n        In stock\\n    \\n  \n",
       "10  \\n\\n    \\n        In stock\\n    \\n  \n",
       "11  \\n\\n    \\n        In stock\\n    \\n  \n",
       "12  \\n\\n    \\n        In stock\\n    \\n  \n",
       "13  \\n\\n    \\n        In stock\\n    \\n  \n",
       "14  \\n\\n    \\n        In stock\\n    \\n  \n",
       "15  \\n\\n    \\n        In stock\\n    \\n  \n",
       "16  \\n\\n    \\n        In stock\\n    \\n  \n",
       "17  \\n\\n    \\n        In stock\\n    \\n  \n",
       "18  \\n\\n    \\n        In stock\\n    \\n  \n",
       "19  \\n\\n    \\n        In stock\\n    \\n  "
      ]
     },
     "execution_count": 39,
     "metadata": {},
     "output_type": "execute_result"
    }
   ],
   "source": [
    "df"
   ]
  }
 ],
 "metadata": {
  "kernelspec": {
   "display_name": "Python 3",
   "language": "python",
   "name": "python3"
  },
  "language_info": {
   "codemirror_mode": {
    "name": "ipython",
    "version": 3
   },
   "file_extension": ".py",
   "mimetype": "text/x-python",
   "name": "python",
   "nbconvert_exporter": "python",
   "pygments_lexer": "ipython3",
   "version": "3.11.4"
  },
  "orig_nbformat": 4
 },
 "nbformat": 4,
 "nbformat_minor": 2
}
