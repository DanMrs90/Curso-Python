{
 "cells": [
  {
   "cell_type": "markdown",
   "metadata": {},
   "source": [
    "# Web scraping "
   ]
  },
  {
   "cell_type": "code",
   "execution_count": 4,
   "metadata": {},
   "outputs": [],
   "source": [
    "import requests\n",
    "\n",
    "from bs4 import BeautifulSoup"
   ]
  },
  {
   "cell_type": "code",
   "execution_count": 1,
   "metadata": {},
   "outputs": [],
   "source": [
    "import pandas as pd"
   ]
  },
  {
   "cell_type": "code",
   "execution_count": 10,
   "metadata": {},
   "outputs": [],
   "source": [
    "def crear_listas(lista):\n",
    "    lista_llena=[]\n",
    "    for i in  lista:\n",
    "        lista_llena.append(i.text)\n",
    "    return lista_llena"
   ]
  },
  {
   "cell_type": "code",
   "execution_count": null,
   "metadata": {},
   "outputs": [],
   "source": [
    "def poblar_listas(country_items,capital_items,population_items,area_items):\n",
    "    list_countries=crear_listas(country_items)\n",
    "    list_capitals=crear_listas(capital_items)\n",
    "    list_population=crear_listas(population_items)\n",
    "    list_areas=crear_listas(area_items)"
   ]
  },
  {
   "cell_type": "code",
   "execution_count": 11,
   "metadata": {},
   "outputs": [],
   "source": [
    "def analizar_soup(soup):\n",
    "    country_items = soup.find_all('h3',class_='country-name')\n",
    "    capital_items = soup.find_all('span',class_='country-capital')\n",
    "    population_items = soup.find_all('span',class_='country-population')\n",
    "    area_items = soup.find_all('span',class_='country-area')\n",
    "    poblar_listas(country_items,capital_items,population_items,area_items) "
   ]
  },
  {
   "cell_type": "code",
   "execution_count": 8,
   "metadata": {},
   "outputs": [],
   "source": [
    "def manejar_paginacion():\n",
    "    for i in range(2):\n",
    "        pagina_scraping=requests.get(f'https://www.scrapethissite.com/pages/forms/?page_num={+i+1}')\n",
    "        soup=BeautifulSoup(pagina_scraping.text,'html.parser')\n",
    "        manejar_paginacion(soup)\n",
    "        \n"
   ]
  }
 ],
 "metadata": {
  "kernelspec": {
   "display_name": "Python 3",
   "language": "python",
   "name": "python3"
  },
  "language_info": {
   "codemirror_mode": {
    "name": "ipython",
    "version": 3
   },
   "file_extension": ".py",
   "mimetype": "text/x-python",
   "name": "python",
   "nbconvert_exporter": "python",
   "pygments_lexer": "ipython3",
   "version": "3.11.4"
  },
  "orig_nbformat": 4
 },
 "nbformat": 4,
 "nbformat_minor": 2
}
