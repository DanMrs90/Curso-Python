{
 "cells": [
  {
   "cell_type": "markdown",
   "metadata": {},
   "source": [
    "# Web scraping "
   ]
  },
  {
   "cell_type": "code",
   "execution_count": 24,
   "metadata": {},
   "outputs": [],
   "source": [
    "import requests\n",
    "\n",
    "from bs4 import BeautifulSoup"
   ]
  },
  {
   "cell_type": "code",
   "execution_count": 25,
   "metadata": {},
   "outputs": [],
   "source": [
    "import pandas as pd"
   ]
  },
  {
   "cell_type": "code",
   "execution_count": 26,
   "metadata": {},
   "outputs": [],
   "source": [
    "def obtener_contenido_pagina(url):\n",
    "    response = requests.get(url)\n",
    "    return response.content"
   ]
  },
  {
   "cell_type": "code",
   "execution_count": 27,
   "metadata": {},
   "outputs": [],
   "source": [
    "def analizar_contenido_html(html):\n",
    "    return BeautifulSoup(html, 'html.parser')"
   ]
  },
  {
   "cell_type": "code",
   "execution_count": 39,
   "metadata": {},
   "outputs": [],
   "source": [
    "data = []\n",
    "\n",
    "def procesar_pagina(soup):\n",
    "    names = []\n",
    "    years = []\n",
    "    wins = []\n",
    "    losses = []\n",
    "\n",
    "    names_items = soup.find_all('td',class_=\"name\")\n",
    "\n",
    "    for items in names_items:\n",
    "        names.append(items.text.strip())\n",
    "\n",
    "    years_items = soup.find_all('td', class_=\"year\")\n",
    "\n",
    "    for item in years_items:\n",
    "        years.append(item.text.strip())\n",
    "\n",
    "    wins_items = soup.find_all('td', class_='wins')\n",
    "\n",
    "    for item in wins_items:\n",
    "        wins.append(item.text.strip())\n",
    "\n",
    "    losses_items = soup.find_all('td', class_='losses')\n",
    "\n",
    "    for item in losses_items:\n",
    "        losses.append(item.text.strip())\n",
    "\n",
    "    for i in range(len(names)):\n",
    "        data.append({\n",
    "            \"Names\": names[i],\n",
    "            \"Years\": years[i],\n",
    "            \"wins\": wins[i],\n",
    "            \"losses\": losses[i]\n",
    "        })"
   ]
  },
  {
   "cell_type": "code",
   "execution_count": 41,
   "metadata": {},
   "outputs": [],
   "source": [
    "def manejar_paginacion(url_base, num_paginas):\n",
    "    for i in range(1, num_paginas + 1):\n",
    "        url = url_base + str(i)  # Actualiza la URL base con el número de página actual\n",
    "        contenido_pagina = obtener_contenido_pagina(url)\n",
    "        soup = analizar_contenido_html(contenido_pagina)\n",
    "        procesar_pagina(soup)"
   ]
  },
  {
   "cell_type": "code",
   "execution_count": 42,
   "metadata": {},
   "outputs": [],
   "source": [
    "url_base = 'https://www.scrapethissite.com/pages/forms/?page_num='  # Reemplaza con tu URL base\n",
    "num_paginas = 3  # Reemplaza con el número total de páginas\n",
    "\n",
    "manejar_paginacion(url_base, num_paginas)"
   ]
  },
  {
   "cell_type": "code",
   "execution_count": 35,
   "metadata": {},
   "outputs": [
    {
     "name": "stdout",
     "output_type": "stream",
     "text": [
      "[{'Names': '\\n                            Boston Bruins\\n                        ', 'Years': '\\n                            1990\\n                        ', 'wins': '\\n                            44\\n                        ', 'losses': '\\n                            24\\n                        '}, {'Names': '\\n                            Buffalo Sabres\\n                        ', 'Years': '\\n                            1990\\n                        ', 'wins': '\\n                            31\\n                        ', 'losses': '\\n                            30\\n                        '}, {'Names': '\\n                            Calgary Flames\\n                        ', 'Years': '\\n                            1990\\n                        ', 'wins': '\\n                            46\\n                        ', 'losses': '\\n                            26\\n                        '}, {'Names': '\\n                            Chicago Blackhawks\\n                        ', 'Years': '\\n                            1990\\n                        ', 'wins': '\\n                            49\\n                        ', 'losses': '\\n                            23\\n                        '}, {'Names': '\\n                            Detroit Red Wings\\n                        ', 'Years': '\\n                            1990\\n                        ', 'wins': '\\n                            34\\n                        ', 'losses': '\\n                            38\\n                        '}, {'Names': '\\n                            Edmonton Oilers\\n                        ', 'Years': '\\n                            1990\\n                        ', 'wins': '\\n                            37\\n                        ', 'losses': '\\n                            37\\n                        '}, {'Names': '\\n                            Hartford Whalers\\n                        ', 'Years': '\\n                            1990\\n                        ', 'wins': '\\n                            31\\n                        ', 'losses': '\\n                            38\\n                        '}, {'Names': '\\n                            Los Angeles Kings\\n                        ', 'Years': '\\n                            1990\\n                        ', 'wins': '\\n                            46\\n                        ', 'losses': '\\n                            24\\n                        '}, {'Names': '\\n                            Minnesota North Stars\\n                        ', 'Years': '\\n                            1990\\n                        ', 'wins': '\\n                            27\\n                        ', 'losses': '\\n                            39\\n                        '}, {'Names': '\\n                            Montreal Canadiens\\n                        ', 'Years': '\\n                            1990\\n                        ', 'wins': '\\n                            39\\n                        ', 'losses': '\\n                            30\\n                        '}, {'Names': '\\n                            New Jersey Devils\\n                        ', 'Years': '\\n                            1990\\n                        ', 'wins': '\\n                            32\\n                        ', 'losses': '\\n                            33\\n                        '}, {'Names': '\\n                            New York Islanders\\n                        ', 'Years': '\\n                            1990\\n                        ', 'wins': '\\n                            25\\n                        ', 'losses': '\\n                            45\\n                        '}, {'Names': '\\n                            New York Rangers\\n                        ', 'Years': '\\n                            1990\\n                        ', 'wins': '\\n                            36\\n                        ', 'losses': '\\n                            31\\n                        '}, {'Names': '\\n                            Philadelphia Flyers\\n                        ', 'Years': '\\n                            1990\\n                        ', 'wins': '\\n                            33\\n                        ', 'losses': '\\n                            37\\n                        '}, {'Names': '\\n                            Pittsburgh Penguins\\n                        ', 'Years': '\\n                            1990\\n                        ', 'wins': '\\n                            41\\n                        ', 'losses': '\\n                            33\\n                        '}, {'Names': '\\n                            Quebec Nordiques\\n                        ', 'Years': '\\n                            1990\\n                        ', 'wins': '\\n                            16\\n                        ', 'losses': '\\n                            50\\n                        '}, {'Names': '\\n                            St. Louis Blues\\n                        ', 'Years': '\\n                            1990\\n                        ', 'wins': '\\n                            47\\n                        ', 'losses': '\\n                            22\\n                        '}, {'Names': '\\n                            Toronto Maple Leafs\\n                        ', 'Years': '\\n                            1990\\n                        ', 'wins': '\\n                            23\\n                        ', 'losses': '\\n                            46\\n                        '}, {'Names': '\\n                            Vancouver Canucks\\n                        ', 'Years': '\\n                            1990\\n                        ', 'wins': '\\n                            28\\n                        ', 'losses': '\\n                            43\\n                        '}, {'Names': '\\n                            Washington Capitals\\n                        ', 'Years': '\\n                            1990\\n                        ', 'wins': '\\n                            37\\n                        ', 'losses': '\\n                            36\\n                        '}, {'Names': '\\n                            Winnipeg Jets\\n                        ', 'Years': '\\n                            1990\\n                        ', 'wins': '\\n                            26\\n                        ', 'losses': '\\n                            43\\n                        '}, {'Names': '\\n                            Boston Bruins\\n                        ', 'Years': '\\n                            1991\\n                        ', 'wins': '\\n                            36\\n                        ', 'losses': '\\n                            32\\n                        '}, {'Names': '\\n                            Buffalo Sabres\\n                        ', 'Years': '\\n                            1991\\n                        ', 'wins': '\\n                            31\\n                        ', 'losses': '\\n                            37\\n                        '}, {'Names': '\\n                            Calgary Flames\\n                        ', 'Years': '\\n                            1991\\n                        ', 'wins': '\\n                            31\\n                        ', 'losses': '\\n                            37\\n                        '}, {'Names': '\\n                            Chicago Blackhawks\\n                        ', 'Years': '\\n                            1991\\n                        ', 'wins': '\\n                            36\\n                        ', 'losses': '\\n                            29\\n                        '}, {'Names': '\\n                            Detroit Red Wings\\n                        ', 'Years': '\\n                            1991\\n                        ', 'wins': '\\n                            43\\n                        ', 'losses': '\\n                            25\\n                        '}, {'Names': '\\n                            Edmonton Oilers\\n                        ', 'Years': '\\n                            1991\\n                        ', 'wins': '\\n                            36\\n                        ', 'losses': '\\n                            34\\n                        '}, {'Names': '\\n                            Hartford Whalers\\n                        ', 'Years': '\\n                            1991\\n                        ', 'wins': '\\n                            26\\n                        ', 'losses': '\\n                            41\\n                        '}, {'Names': '\\n                            Los Angeles Kings\\n                        ', 'Years': '\\n                            1991\\n                        ', 'wins': '\\n                            35\\n                        ', 'losses': '\\n                            31\\n                        '}, {'Names': '\\n                            Minnesota North Stars\\n                        ', 'Years': '\\n                            1991\\n                        ', 'wins': '\\n                            32\\n                        ', 'losses': '\\n                            42\\n                        '}, {'Names': '\\n                            Montreal Canadiens\\n                        ', 'Years': '\\n                            1991\\n                        ', 'wins': '\\n                            41\\n                        ', 'losses': '\\n                            28\\n                        '}, {'Names': '\\n                            New Jersey Devils\\n                        ', 'Years': '\\n                            1991\\n                        ', 'wins': '\\n                            38\\n                        ', 'losses': '\\n                            31\\n                        '}, {'Names': '\\n                            New York Islanders\\n                        ', 'Years': '\\n                            1991\\n                        ', 'wins': '\\n                            34\\n                        ', 'losses': '\\n                            35\\n                        '}, {'Names': '\\n                            New York Rangers\\n                        ', 'Years': '\\n                            1991\\n                        ', 'wins': '\\n                            50\\n                        ', 'losses': '\\n                            25\\n                        '}, {'Names': '\\n                            Philadelphia Flyers\\n                        ', 'Years': '\\n                            1991\\n                        ', 'wins': '\\n                            32\\n                        ', 'losses': '\\n                            37\\n                        '}, {'Names': '\\n                            Pittsburgh Penguins\\n                        ', 'Years': '\\n                            1991\\n                        ', 'wins': '\\n                            39\\n                        ', 'losses': '\\n                            32\\n                        '}, {'Names': '\\n                            Quebec Nordiques\\n                        ', 'Years': '\\n                            1991\\n                        ', 'wins': '\\n                            20\\n                        ', 'losses': '\\n                            48\\n                        '}, {'Names': '\\n                            San Jose Sharks\\n                        ', 'Years': '\\n                            1991\\n                        ', 'wins': '\\n                            17\\n                        ', 'losses': '\\n                            58\\n                        '}, {'Names': '\\n                            St. Louis Blues\\n                        ', 'Years': '\\n                            1991\\n                        ', 'wins': '\\n                            36\\n                        ', 'losses': '\\n                            33\\n                        '}, {'Names': '\\n                            Toronto Maple Leafs\\n                        ', 'Years': '\\n                            1991\\n                        ', 'wins': '\\n                            30\\n                        ', 'losses': '\\n                            43\\n                        '}, {'Names': '\\n                            Vancouver Canucks\\n                        ', 'Years': '\\n                            1991\\n                        ', 'wins': '\\n                            42\\n                        ', 'losses': '\\n                            26\\n                        '}, {'Names': '\\n                            Washington Capitals\\n                        ', 'Years': '\\n                            1991\\n                        ', 'wins': '\\n                            45\\n                        ', 'losses': '\\n                            27\\n                        '}, {'Names': '\\n                            Winnipeg Jets\\n                        ', 'Years': '\\n                            1991\\n                        ', 'wins': '\\n                            33\\n                        ', 'losses': '\\n                            32\\n                        '}, {'Names': '\\n                            Boston Bruins\\n                        ', 'Years': '\\n                            1992\\n                        ', 'wins': '\\n                            51\\n                        ', 'losses': '\\n                            26\\n                        '}, {'Names': '\\n                            Buffalo Sabres\\n                        ', 'Years': '\\n                            1992\\n                        ', 'wins': '\\n                            38\\n                        ', 'losses': '\\n                            36\\n                        '}, {'Names': '\\n                            Calgary Flames\\n                        ', 'Years': '\\n                            1992\\n                        ', 'wins': '\\n                            43\\n                        ', 'losses': '\\n                            30\\n                        '}, {'Names': '\\n                            Chicago Blackhawks\\n                        ', 'Years': '\\n                            1992\\n                        ', 'wins': '\\n                            47\\n                        ', 'losses': '\\n                            25\\n                        '}, {'Names': '\\n                            Detroit Red Wings\\n                        ', 'Years': '\\n                            1992\\n                        ', 'wins': '\\n                            47\\n                        ', 'losses': '\\n                            28\\n                        '}, {'Names': '\\n                            Edmonton Oilers\\n                        ', 'Years': '\\n                            1992\\n                        ', 'wins': '\\n                            26\\n                        ', 'losses': '\\n                            50\\n                        '}, {'Names': '\\n                            Hartford Whalers\\n                        ', 'Years': '\\n                            1992\\n                        ', 'wins': '\\n                            26\\n                        ', 'losses': '\\n                            52\\n                        '}, {'Names': '\\n                            Los Angeles Kings\\n                        ', 'Years': '\\n                            1992\\n                        ', 'wins': '\\n                            39\\n                        ', 'losses': '\\n                            35\\n                        '}, {'Names': '\\n                            Minnesota North Stars\\n                        ', 'Years': '\\n                            1992\\n                        ', 'wins': '\\n                            36\\n                        ', 'losses': '\\n                            38\\n                        '}, {'Names': '\\n                            Montreal Canadiens\\n                        ', 'Years': '\\n                            1992\\n                        ', 'wins': '\\n                            48\\n                        ', 'losses': '\\n                            30\\n                        '}, {'Names': '\\n                            New Jersey Devils\\n                        ', 'Years': '\\n                            1992\\n                        ', 'wins': '\\n                            40\\n                        ', 'losses': '\\n                            37\\n                        '}, {'Names': '\\n                            New York Islanders\\n                        ', 'Years': '\\n                            1992\\n                        ', 'wins': '\\n                            40\\n                        ', 'losses': '\\n                            37\\n                        '}, {'Names': '\\n                            New York Rangers\\n                        ', 'Years': '\\n                            1992\\n                        ', 'wins': '\\n                            34\\n                        ', 'losses': '\\n                            39\\n                        '}, {'Names': '\\n                            Ottawa Senators\\n                        ', 'Years': '\\n                            1992\\n                        ', 'wins': '\\n                            10\\n                        ', 'losses': '\\n                            70\\n                        '}, {'Names': '\\n                            Philadelphia Flyers\\n                        ', 'Years': '\\n                            1992\\n                        ', 'wins': '\\n                            36\\n                        ', 'losses': '\\n                            37\\n                        '}, {'Names': '\\n                            Pittsburgh Penguins\\n                        ', 'Years': '\\n                            1992\\n                        ', 'wins': '\\n                            56\\n                        ', 'losses': '\\n                            21\\n                        '}, {'Names': '\\n                            Quebec Nordiques\\n                        ', 'Years': '\\n                            1992\\n                        ', 'wins': '\\n                            47\\n                        ', 'losses': '\\n                            27\\n                        '}, {'Names': '\\n                            San Jose Sharks\\n                        ', 'Years': '\\n                            1992\\n                        ', 'wins': '\\n                            11\\n                        ', 'losses': '\\n                            71\\n                        '}, {'Names': '\\n                            St. Louis Blues\\n                        ', 'Years': '\\n                            1992\\n                        ', 'wins': '\\n                            37\\n                        ', 'losses': '\\n                            36\\n                        '}, {'Names': '\\n                            Tampa Bay Lightning\\n                        ', 'Years': '\\n                            1992\\n                        ', 'wins': '\\n                            23\\n                        ', 'losses': '\\n                            54\\n                        '}, {'Names': '\\n                            Toronto Maple Leafs\\n                        ', 'Years': '\\n                            1992\\n                        ', 'wins': '\\n                            44\\n                        ', 'losses': '\\n                            29\\n                        '}, {'Names': '\\n                            Vancouver Canucks\\n                        ', 'Years': '\\n                            1992\\n                        ', 'wins': '\\n                            46\\n                        ', 'losses': '\\n                            29\\n                        '}, {'Names': '\\n                            Washington Capitals\\n                        ', 'Years': '\\n                            1992\\n                        ', 'wins': '\\n                            43\\n                        ', 'losses': '\\n                            34\\n                        '}, {'Names': '\\n                            Winnipeg Jets\\n                        ', 'Years': '\\n                            1992\\n                        ', 'wins': '\\n                            40\\n                        ', 'losses': '\\n                            37\\n                        '}, {'Names': '\\n                            Mighty Ducks of Anaheim\\n                        ', 'Years': '\\n                            1993\\n                        ', 'wins': '\\n                            33\\n                        ', 'losses': '\\n                            46\\n                        '}, {'Names': '\\n                            Boston Bruins\\n                        ', 'Years': '\\n                            1993\\n                        ', 'wins': '\\n                            42\\n                        ', 'losses': '\\n                            29\\n                        '}, {'Names': '\\n                            Buffalo Sabres\\n                        ', 'Years': '\\n                            1993\\n                        ', 'wins': '\\n                            43\\n                        ', 'losses': '\\n                            32\\n                        '}, {'Names': '\\n                            Calgary Flames\\n                        ', 'Years': '\\n                            1993\\n                        ', 'wins': '\\n                            42\\n                        ', 'losses': '\\n                            29\\n                        '}, {'Names': '\\n                            Chicago Blackhawks\\n                        ', 'Years': '\\n                            1993\\n                        ', 'wins': '\\n                            39\\n                        ', 'losses': '\\n                            36\\n                        '}, {'Names': '\\n                            Dallas Stars\\n                        ', 'Years': '\\n                            1993\\n                        ', 'wins': '\\n                            42\\n                        ', 'losses': '\\n                            29\\n                        '}, {'Names': '\\n                            Detroit Red Wings\\n                        ', 'Years': '\\n                            1993\\n                        ', 'wins': '\\n                            46\\n                        ', 'losses': '\\n                            30\\n                        '}, {'Names': '\\n                            Edmonton Oilers\\n                        ', 'Years': '\\n                            1993\\n                        ', 'wins': '\\n                            25\\n                        ', 'losses': '\\n                            45\\n                        '}]\n"
     ]
    }
   ],
   "source": [
    "print(data)"
   ]
  },
  {
   "cell_type": "code",
   "execution_count": 43,
   "metadata": {},
   "outputs": [],
   "source": [
    "df=pd.DataFrame(data)"
   ]
  },
  {
   "cell_type": "code",
   "execution_count": 44,
   "metadata": {},
   "outputs": [],
   "source": [
    "df.to_csv('../repositorio/hockeyTeams.csv')"
   ]
  },
  {
   "cell_type": "markdown",
   "metadata": {},
   "source": []
  },
  {
   "cell_type": "markdown",
   "metadata": {},
   "source": []
  },
  {
   "cell_type": "code",
   "execution_count": 74,
   "metadata": {},
   "outputs": [],
   "source": [
    "def crear_listas(lista):\n",
    "    lista_llena=[]\n",
    "    for i in  lista:\n",
    "        lista_llena.append(i.text.strip())\n",
    "    return lista_llena"
   ]
  },
  {
   "cell_type": "code",
   "execution_count": 76,
   "metadata": {},
   "outputs": [],
   "source": [
    "\n",
    "def agregar_a_data(name_list,year_list,wins_list,losses_list):\n",
    "    data=pd.DataFrame({\n",
    "        \"Country\": name_list,\n",
    "        \"Capital\": year_list,\n",
    "        \"Population\": wins_list,\n",
    "        \"area\": losses_list\n",
    "        })"
   ]
  },
  {
   "cell_type": "code",
   "execution_count": 68,
   "metadata": {},
   "outputs": [],
   "source": [
    "def analizar_soup(soup):\n",
    "    name_items = soup.find_all('td',class_='name')\n",
    "    name_list= crear_listas(name_items)\n",
    "    year_items = soup.find_all('td',class_='year')\n",
    "    year_list=crear_listas(year_items)\n",
    "    wins_items = soup.find_all('td',class_='wins')\n",
    "    wins_list=crear_listas(wins_items)\n",
    "    losses_items = soup.find_all('td',class_='losses')\n",
    "    losses_list=crear_listas(losses_items)\n",
    "    agregar_a_data(name_list,year_list,wins_list,losses_list)"
   ]
  },
  {
   "cell_type": "code",
   "execution_count": null,
   "metadata": {},
   "outputs": [],
   "source": []
  },
  {
   "cell_type": "code",
   "execution_count": 73,
   "metadata": {},
   "outputs": [],
   "source": [
    "def manejar_paginacion():\n",
    "    for i in range(2):\n",
    "        pagina_scraping=requests.get(f'https://www.scrapethissite.com/pages/forms/?page_num={+i+1}')\n",
    "        soup=BeautifulSoup(pagina_scraping.text,'html.parser')\n",
    "        manejar_paginacion(soup)\n",
    "        \n"
   ]
  },
  {
   "cell_type": "code",
   "execution_count": 72,
   "metadata": {},
   "outputs": [],
   "source": [
    "\n",
    "df.to_csv('../repositorio/mio.csv')"
   ]
  }
 ],
 "metadata": {
  "kernelspec": {
   "display_name": "Python 3",
   "language": "python",
   "name": "python3"
  },
  "language_info": {
   "codemirror_mode": {
    "name": "ipython",
    "version": 3
   },
   "file_extension": ".py",
   "mimetype": "text/x-python",
   "name": "python",
   "nbconvert_exporter": "python",
   "pygments_lexer": "ipython3",
   "version": "3.11.4"
  },
  "orig_nbformat": 4
 },
 "nbformat": 4,
 "nbformat_minor": 2
}
